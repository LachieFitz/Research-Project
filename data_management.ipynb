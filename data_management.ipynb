{
 "cells": [
  {
   "cell_type": "code",
   "execution_count": 1,
   "id": "ba2948db-7b48-45c2-b3c0-66ac8ac3f0ab",
   "metadata": {},
   "outputs": [],
   "source": [
    "import numpy as np\n",
    "import librosa.display\n",
    "import librosa\n",
    "from sklearn import model_selection\n",
    "from pathlib import Path\n",
    "\n",
    "import pandas as pd\n",
    "import tqdm\n",
    "from pathlib import Path\n"
   ]
  },
  {
   "cell_type": "markdown",
   "id": "6ca60650",
   "metadata": {},
   "source": [
    "## Load GTZAN data"
   ]
  },
  {
   "cell_type": "code",
   "execution_count": 2,
   "id": "e2cb1574-e009-4753-8e49-4bd2d8e0de5c",
   "metadata": {},
   "outputs": [
    {
     "name": "stderr",
     "output_type": "stream",
     "text": [
      "929it [00:06, 182.30it/s]/var/folders/_w/667dl2mx2qd3yv3xq3fvz1wm0000gn/T/ipykernel_49232/3016074573.py:6: UserWarning: PySoundFile failed. Trying audioread instead.\n",
      "  x, s = librosa.load(f)\n",
      "/Users/lachlanfitzgibbon/opt/anaconda3/envs/genclass/lib/python3.9/site-packages/librosa/core/audio.py:184: FutureWarning: librosa.core.audio.__audioread_load\n",
      "\tDeprecated as of librosa version 0.10.0.\n",
      "\tIt will be removed in librosa version 1.0.\n",
      "  y, sr_native = __audioread_load(path, offset, duration, dtype)\n",
      "Exception ignored in: <function CFObject.__del__ at 0x7ff44b21b940>\n",
      "Traceback (most recent call last):\n",
      "  File \"/Users/lachlanfitzgibbon/opt/anaconda3/envs/genclass/lib/python3.9/site-packages/audioread/macca.py\", line 135, in __del__\n",
      "    _corefoundation.CFRelease(self._obj)\n",
      "AttributeError: 'CFURL' object has no attribute '_obj'\n",
      "Exception ignored in: <function ExtAudioFile.__del__ at 0x7ff44b229160>\n",
      "Traceback (most recent call last):\n",
      "  File \"/Users/lachlanfitzgibbon/opt/anaconda3/envs/genclass/lib/python3.9/site-packages/audioread/macca.py\", line 336, in __del__\n",
      "    self.close()\n",
      "  File \"/Users/lachlanfitzgibbon/opt/anaconda3/envs/genclass/lib/python3.9/site-packages/audioread/macca.py\", line 330, in close\n",
      "    if not self.closed:\n",
      "AttributeError: 'ExtAudioFile' object has no attribute 'closed'\n",
      "1000it [00:07, 136.75it/s]\n"
     ]
    }
   ],
   "source": [
    "data, labels, sr, failed = [], [], [], []\n",
    "\n",
    "for f in tqdm.tqdm(Path('./').glob('genres_original/*/*.wav')):\n",
    "    \n",
    "    try:\n",
    "        x, s = librosa.load(f)\n",
    "    except Exception as e:   \n",
    "        failed.append(f)\n",
    "        continue\n",
    "        \n",
    "    data.append(x[:660000])\n",
    "    sr.append(s)\n",
    "\n",
    "    labels.append(str(f).split('/')[1])\n",
    "    "
   ]
  },
  {
   "cell_type": "code",
   "execution_count": 3,
   "id": "697639df",
   "metadata": {},
   "outputs": [
    {
     "data": {
      "text/plain": [
       "(999, 999, 999, 1)"
      ]
     },
     "execution_count": 3,
     "metadata": {},
     "output_type": "execute_result"
    }
   ],
   "source": [
    "len(data), len(labels), len(sr), len(failed)"
   ]
  },
  {
   "cell_type": "code",
   "execution_count": 4,
   "id": "eda39238",
   "metadata": {},
   "outputs": [
    {
     "data": {
      "text/plain": [
       "[PosixPath('genres_original/jazz/jazz.00054.wav')]"
      ]
     },
     "execution_count": 4,
     "metadata": {},
     "output_type": "execute_result"
    }
   ],
   "source": [
    "failed"
   ]
  },
  {
   "cell_type": "code",
   "execution_count": 5,
   "id": "4321f732",
   "metadata": {},
   "outputs": [
    {
     "data": {
      "text/plain": [
       "22050"
      ]
     },
     "execution_count": 5,
     "metadata": {},
     "output_type": "execute_result"
    }
   ],
   "source": [
    "sr[0]"
   ]
  },
  {
   "cell_type": "code",
   "execution_count": 6,
   "id": "0cead8d1-0929-46ea-a7ea-f1f399fb4426",
   "metadata": {},
   "outputs": [
    {
     "data": {
      "text/plain": [
       "array(['blues', 'classical', 'country', 'disco', 'hiphop', 'jazz',\n",
       "       'metal', 'pop', 'reggae', 'rock'], dtype='<U9')"
      ]
     },
     "execution_count": 6,
     "metadata": {},
     "output_type": "execute_result"
    }
   ],
   "source": [
    "np.unique(labels)"
   ]
  },
  {
   "cell_type": "code",
   "execution_count": 7,
   "id": "ade8b1e7-f4e6-48f0-82f9-4e075e7b285d",
   "metadata": {},
   "outputs": [
    {
     "data": {
      "text/plain": [
       "((999, 660000), (999,), (999,))"
      ]
     },
     "execution_count": 7,
     "metadata": {},
     "output_type": "execute_result"
    }
   ],
   "source": [
    "data = np.stack(data, axis=0) \n",
    "sr = np.array(sr)\n",
    "labels = np.array(labels)\n",
    "\n",
    "data.shape, sr.shape, labels.shape"
   ]
  },
  {
   "cell_type": "code",
   "execution_count": 8,
   "id": "3ffe7fe2-7c24-4251-9354-dd7e70bda70b",
   "metadata": {},
   "outputs": [],
   "source": [
    "data_train, data_held, labels_train, labels_held, sr_train, sr_held = model_selection.train_test_split(\n",
    "    data, \n",
    "    labels,\n",
    "    sr,\n",
    "    test_size=0.2,\n",
    "    stratify=labels,\n",
    ")"
   ]
  },
  {
   "cell_type": "code",
   "execution_count": 9,
   "id": "4892db76-9f01-439a-a5f7-fcd90f8daff7",
   "metadata": {},
   "outputs": [
    {
     "data": {
      "text/plain": [
       "((799, 660000), (799,), (799,))"
      ]
     },
     "execution_count": 9,
     "metadata": {},
     "output_type": "execute_result"
    }
   ],
   "source": [
    "data_train.shape, labels_train.shape, sr_train.shape"
   ]
  },
  {
   "cell_type": "code",
   "execution_count": 10,
   "id": "e1acdb14-ff06-4b43-ab2b-466232ef071e",
   "metadata": {},
   "outputs": [
    {
     "data": {
      "text/plain": [
       "((200, 660000), (200,), (200,))"
      ]
     },
     "execution_count": 10,
     "metadata": {},
     "output_type": "execute_result"
    }
   ],
   "source": [
    "data_held.shape, labels_held.shape, sr_held.shape"
   ]
  },
  {
   "cell_type": "code",
   "execution_count": 11,
   "id": "4b827838-e30f-4417-8cee-0f0a03ac4d9a",
   "metadata": {},
   "outputs": [],
   "source": [
    "outpath = Path('data_npy/gtzan')\n",
    "outpath.mkdir(parents=True, exist_ok=True)\n",
    "\n",
    "np.save(outpath / 'data_train.npy', data_train)\n",
    "np.save(outpath / 'data_heldout.npy', data_held)\n",
    "np.save(outpath / 'labels_train.npy', labels_train)\n",
    "np.save(outpath / 'labels_heldout.npy', labels_held)\n",
    "np.save(outpath / 'sr_train.npy', sr_train)\n",
    "np.save(outpath / 'sr_heldout.npy', sr_held)"
   ]
  },
  {
   "cell_type": "markdown",
   "id": "308431c3",
   "metadata": {},
   "source": [
    "## Load FMA data"
   ]
  },
  {
   "cell_type": "code",
   "execution_count": null,
   "id": "25ea93d8-4351-40c6-b85f-d774968d9fff",
   "metadata": {},
   "outputs": [],
   "source": [
    "sample_rate = 44100\n",
    "\n",
    "# load tracks metadata\n",
    "tracks = pd.read_csv(Path('FMA/tracks_genre.csv')).set_index('track_id')\n",
    "\n",
    "# create genre mapping for files we have\n",
    "mapping = []\n",
    "\n",
    "for f in Path('./FMA').glob('fma_small/*/*.mp3'):\n",
    "    mapping.append(\n",
    "        {\n",
    "            'track_id': int(f.stem),\n",
    "            'genre': tracks.loc[int(f.stem), 'genre_top'],\n",
    "            'filename': f,\n",
    "        }\n",
    "    )\n",
    "\n",
    "mapping = pd.DataFrame(mapping)\n",
    "\n",
    "# sample the filenames stratified on genre (to match GTZAN numbers for testing)\n",
    "\n",
    "# TODO: remove subsampling once it works\n",
    "\n",
    "training_size = 1000\n",
    "\n",
    "filenames, _, genres, _ = model_selection.train_test_split(\n",
    "    mapping.filename, \n",
    "    mapping.genre, \n",
    "    train_size=training_size, \n",
    "    stratify=mapping.genre\n",
    ")\n",
    "\n",
    "# load the data\n",
    "\n",
    "data, sr, labels, failed = [], [], [], []\n",
    "\n",
    "for f, genre in tqdm.tqdm(zip(filenames, genres)):\n",
    "\n",
    "    try:\n",
    "        y, sr0 = librosa.load(f, sr=sample_rate)\n",
    "        \n",
    "        data.append(y[:1321438])\n",
    "        sr.append(sr0)\n",
    "        labels.append(genre)\n",
    "    except:\n",
    "        failed.append(f)\n",
    "        continue"
   ]
  },
  {
   "cell_type": "code",
   "execution_count": null,
   "id": "5a03386d-4df1-4c93-8f66-df18cb375866",
   "metadata": {},
   "outputs": [],
   "source": [
    "y.shape, len(data), len(sr), len(labels), len(failed)"
   ]
  },
  {
   "cell_type": "code",
   "execution_count": null,
   "id": "64dd2124-05df-4b94-80b8-408fcd38583e",
   "metadata": {},
   "outputs": [],
   "source": [
    "data = np.stack(data, axis=0) \n",
    "labels = np.array(labels)\n",
    "sr = np.array(sr)"
   ]
  },
  {
   "cell_type": "code",
   "execution_count": null,
   "id": "447206d0-52df-4044-84d5-b0b90e63161d",
   "metadata": {
    "tags": []
   },
   "outputs": [],
   "source": [
    "data.shape, labels.shape, sr.shape"
   ]
  },
  {
   "cell_type": "code",
   "execution_count": null,
   "id": "e229029d",
   "metadata": {
    "tags": []
   },
   "outputs": [],
   "source": [
    "sr[0]"
   ]
  },
  {
   "cell_type": "code",
   "execution_count": null,
   "id": "87b1b5d0",
   "metadata": {
    "tags": []
   },
   "outputs": [],
   "source": [
    "data_train, data_held, labels_train, labels_held, sr_train, sr_held = model_selection.train_test_split(\n",
    "    data, \n",
    "    labels,\n",
    "    sr,\n",
    "    test_size=0.2,\n",
    "    stratify=labels,\n",
    ")"
   ]
  },
  {
   "cell_type": "code",
   "execution_count": null,
   "id": "a47a5a42",
   "metadata": {},
   "outputs": [],
   "source": [
    "data_train.shape, labels_train.shape, sr_train.shape"
   ]
  },
  {
   "cell_type": "code",
   "execution_count": null,
   "id": "42b15041",
   "metadata": {},
   "outputs": [],
   "source": [
    "data_held.shape, labels_held.shape, sr_held.shape"
   ]
  },
  {
   "cell_type": "code",
   "execution_count": null,
   "id": "773ec1bd",
   "metadata": {},
   "outputs": [],
   "source": [
    "outpath = Path('data_npy/fma_small')\n",
    "outpath.mkdir(parents=True, exist_ok=True)\n",
    "\n",
    "np.save(outpath / 'data_train.npy', data_train)\n",
    "np.save(outpath / 'data_heldout.npy', data_held)\n",
    "np.save(outpath / 'labels_train.npy', labels_train)\n",
    "np.save(outpath / 'labels_heldout.npy', labels_held)\n",
    "np.save(outpath / 'sr_train.npy', sr_train)\n",
    "np.save(outpath / 'sr_heldout.npy', sr_held)"
   ]
  },
  {
   "cell_type": "code",
   "execution_count": null,
   "id": "601f1a53",
   "metadata": {},
   "outputs": [],
   "source": [
    "outpath = Path('data_npy/fma_small_22k')\n",
    "outpath.mkdir(parents=True, exist_ok=True)\n",
    "\n",
    "print(data.shape)\n",
    "data = librosa.resample(data, orig_sr=sr[0], target_sr=22050, axis=1)\n",
    "print(data.shape)\n",
    "\n",
    "np.save(outpath / 'data_train.npy', data_train)\n",
    "np.save(outpath / 'data_heldout.npy', data_held)\n",
    "np.save(outpath / 'labels_train.npy', labels_train)\n",
    "np.save(outpath / 'labels_heldout.npy', labels_held)\n",
    "np.save(outpath / 'sr_train.npy', sr_train)\n",
    "np.save(outpath / 'sr_heldout.npy', sr_held)"
   ]
  },
  {
   "cell_type": "code",
   "execution_count": null,
   "id": "ef99b815",
   "metadata": {},
   "outputs": [],
   "source": []
  }
 ],
 "metadata": {
  "kernelspec": {
   "display_name": "Python 3 (ipykernel)",
   "language": "python",
   "name": "python3"
  },
  "language_info": {
   "codemirror_mode": {
    "name": "ipython",
    "version": 3
   },
   "file_extension": ".py",
   "mimetype": "text/x-python",
   "name": "python",
   "nbconvert_exporter": "python",
   "pygments_lexer": "ipython3",
   "version": "3.9.15"
  }
 },
 "nbformat": 4,
 "nbformat_minor": 5
}
