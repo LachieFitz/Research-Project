{
 "cells": [
  {
   "cell_type": "code",
   "execution_count": 1,
   "id": "ac3d7b66-ef7d-4850-9ec8-a8a0b88472c4",
   "metadata": {},
   "outputs": [],
   "source": [
    "import numpy as np\n",
    "import librosa.display\n",
    "import librosa\n",
    "from pathlib import Path\n",
    "\n",
    "# from rp_extract.py import rp_extract\n",
    "from transformers import JukeboxVQVAE\n",
    "import torch\n",
    "import tqdm\n",
    "\n",
    "from pathlib import Path\n"
   ]
  },
  {
   "cell_type": "code",
   "execution_count": 2,
   "id": "5db17c2c-d2c5-420b-b168-f8ddaf531207",
   "metadata": {},
   "outputs": [
    {
     "data": {
      "text/plain": [
       "((800, 1321438), (800,), (800,))"
      ]
     },
     "execution_count": 2,
     "metadata": {},
     "output_type": "execute_result"
    }
   ],
   "source": [
    "# datapath = Path('data_npy/gtzan')\n",
    "# datapath = Path('data_npy/fma_small')\n",
    "datapath = Path('data_npy/fma_small_22k')\n",
    "\n",
    "data = np.load(datapath / 'data_train.npy')\n",
    "labels = np.load(datapath / 'labels_train.npy')\n",
    "sr = np.load(datapath / 'sr_train.npy')\n",
    "\n",
    "data.shape, labels.shape, sr.shape"
   ]
  },
  {
   "cell_type": "markdown",
   "id": "56828596-8541-429e-84d0-88400379d5a1",
   "metadata": {},
   "source": [
    " ## MFCC \n"
   ]
  },
  {
   "cell_type": "code",
   "execution_count": 3,
   "id": "39041e87-2bc5-4c95-a6fc-fbb267381f1a",
   "metadata": {},
   "outputs": [
    {
     "name": "stdout",
     "output_type": "stream",
     "text": [
      "(800, 51620)\n"
     ]
    }
   ],
   "source": [
    "mfcc = []\n",
    "\n",
    "for d, sr0 in zip(data, sr):\n",
    "    mfcc.append(\n",
    "        librosa.feature.mfcc(y=d, sr=sr0)\n",
    "    )\n",
    "mfcc = np.stack([f.ravel() for f in mfcc])\n",
    "np.save(datapath / 'mfcc.npy', mfcc)\n",
    "\n",
    "print(mfcc.shape)\n",
    "\n",
    "del mfcc"
   ]
  },
  {
   "cell_type": "markdown",
   "id": "459f36d1-6bb6-46eb-9a46-a61406ca18f4",
   "metadata": {},
   "source": [
    "## Zero Crossing Rate"
   ]
  },
  {
   "cell_type": "code",
   "execution_count": 4,
   "id": "9e249385-208f-4f08-9567-4770e9029043",
   "metadata": {},
   "outputs": [
    {
     "name": "stdout",
     "output_type": "stream",
     "text": [
      "(800, 2581)\n"
     ]
    }
   ],
   "source": [
    "zero = []\n",
    "\n",
    "for d in data:\n",
    "    zero.append(\n",
    "       librosa.feature.zero_crossing_rate(y=d, frame_length=2048, hop_length=512)\n",
    "    )\n",
    "    \n",
    "zero = np.stack(zero).squeeze()\n",
    "np.save(datapath / 'zero.npy', zero)\n",
    "print(zero.shape)\n",
    "\n",
    "del zero"
   ]
  },
  {
   "cell_type": "markdown",
   "id": "2552c8d1-2a92-48ce-a162-14c3f52b1992",
   "metadata": {},
   "source": [
    "## Tempo"
   ]
  },
  {
   "cell_type": "code",
   "execution_count": 5,
   "id": "d0507ade-1c7a-42da-9441-27c71cf97650",
   "metadata": {},
   "outputs": [
    {
     "name": "stdout",
     "output_type": "stream",
     "text": [
      "(800, 1)\n"
     ]
    }
   ],
   "source": [
    "from librosa.feature import rhythm\n",
    "\n",
    "tempo = []\n",
    "hop_length = 512\n",
    "\n",
    "for d, sr0 in zip(data, sr):\n",
    "    oenv = librosa.onset.onset_strength(y=d, sr=sr0, hop_length=hop_length)\n",
    "    tempo.append(\n",
    "        #times = librosa.times_like(oenv, sr=sr, hop_length=hop_length)\n",
    "        #tempogram = librosa.feature.tempogram(onset_envelope=oenv, sr=sr, hop_length=hop_length)\n",
    "        rhythm.tempo(onset_envelope=oenv, sr=sr0, hop_length=hop_length)[0]\n",
    "    )\n",
    "\n",
    "tempo = np.stack([f.ravel() for f in tempo])\n",
    "np.save(datapath / 'tempo.npy', tempo)\n",
    "\n",
    "print(tempo.shape)\n"
   ]
  },
  {
   "cell_type": "markdown",
   "id": "8012740f-9500-46fe-bf32-3d73a66146a1",
   "metadata": {},
   "source": [
    "## Spectral Contrast"
   ]
  },
  {
   "cell_type": "code",
   "execution_count": 6,
   "id": "6ff0cbdb-586f-41d2-82d8-82954f1d0d7c",
   "metadata": {},
   "outputs": [
    {
     "name": "stdout",
     "output_type": "stream",
     "text": [
      "(800, 18067)\n"
     ]
    }
   ],
   "source": [
    "#y_harmonic = librosa.effects.hpss(data)\n",
    "sc = []\n",
    "\n",
    "for d, sr0 in zip(data, sr):\n",
    "    sc.append(\n",
    "        librosa.feature.spectral_contrast(y=d, sr=sr0)\n",
    "    )\n",
    "sc = np.stack([f.ravel() for f in sc])\n",
    "np.save(datapath / 'sc.npy', sc)\n",
    "\n",
    "print(sc.shape)\n",
    "\n"
   ]
  },
  {
   "cell_type": "markdown",
   "id": "9e067a0c-762c-4269-a2c7-82953d563286",
   "metadata": {},
   "source": [
    "## STFT"
   ]
  },
  {
   "cell_type": "code",
   "execution_count": 7,
   "id": "3f93af89-9754-4f64-9956-18f1b09e1adf",
   "metadata": {},
   "outputs": [
    {
     "name": "stdout",
     "output_type": "stream",
     "text": [
      "(800, 1321438)\n",
      "(800, 1323275)\n"
     ]
    }
   ],
   "source": [
    "stft = []\n",
    "\n",
    "n_fft = 2048\n",
    "hop_length = 1024\n",
    "\n",
    "print(data.shape)\n",
    "\n",
    "for d, sr0 in zip(data, sr):\n",
    "    stft.append(\n",
    "        librosa.amplitude_to_db(\n",
    "            np.abs(\n",
    "                librosa.stft(y=d, hop_length=hop_length, n_fft=n_fft)\n",
    "            )\n",
    "        )\n",
    "    )\n",
    "stft = np.stack([f.ravel() for f in stft])\n",
    "np.save(datapath / 'stft.npy', stft)\n",
    "\n",
    "print(stft.shape)"
   ]
  },
  {
   "cell_type": "markdown",
   "id": "30b0cfd8-75aa-4c52-a02b-5a52ee774c0f",
   "metadata": {},
   "source": [
    " ## Mel Spectrogram"
   ]
  },
  {
   "cell_type": "code",
   "execution_count": 8,
   "id": "c8fee256-9368-4e0f-9846-a057a5c8dd48",
   "metadata": {},
   "outputs": [
    {
     "name": "stdout",
     "output_type": "stream",
     "text": [
      "(800, 330368)\n"
     ]
    }
   ],
   "source": [
    "mel = []\n",
    "\n",
    "for d, sr0 in zip(data, sr):\n",
    "    mel.append(\n",
    "        librosa.feature.melspectrogram(y=d, sr=sr0)\n",
    "    )\n",
    "mel = np.stack([f.ravel() for f in mel])\n",
    "np.save(datapath / 'mel.npy', mel)\n",
    "print(mel.shape)"
   ]
  },
  {
   "cell_type": "markdown",
   "id": "d4fff09e-1f9d-4762-9e92-96e906b8f985",
   "metadata": {},
   "source": [
    " ## SSD"
   ]
  },
  {
   "cell_type": "code",
   "execution_count": null,
   "id": "eb0bc3c4-7e76-4b53-b1ca-d36ac93bb781",
   "metadata": {},
   "outputs": [],
   "source": [
    "# from rp_extract import rp_extract\n",
    "\n",
    "# SSD = []\n",
    "\n",
    "# for d, sr0 in zip(data, sr):\n",
    "#     SSD.append(\n",
    "#         rp_extract(\n",
    "#             wavedata,  # the two-channel wave-data of the audio-file\n",
    "#             samplerate,  # the samplerate of the audio-file\n",
    "#             extract_ssd=True,  # <== extract this feature!\n",
    "#             transform_db=True,  # apply psycho-accoustic transformation\n",
    "#             transform_phon=True,  # apply psycho-accoustic transformation\n",
    "#             transform_sone=True,  # apply psycho-accoustic transformation\n",
    "#             fluctuation_strength_weighting=True,  # apply psycho-accoustic transformation\n",
    "#             skip_leadin_fadeout=1,  # skip lead-in/fade-out. value = number of segments skipped\n",
    "#             step_width=1,\n",
    "#         )  #\n",
    "#     )\n",
    "# SSD = np.stack([f.ravel() for f in SSD])\n",
    "# np.save(\"SSD.npy\", SSD)\n",
    "\n",
    "# print(SSD.shape)\n"
   ]
  },
  {
   "cell_type": "markdown",
   "id": "f2cbbc76-f730-4e5d-9af0-6fcd7f1e51b2",
   "metadata": {},
   "source": [
    "## Jukebox embedding"
   ]
  },
  {
   "cell_type": "code",
   "execution_count": null,
   "id": "bc04d93f-16f5-4786-9a8b-21991be0e2c4",
   "metadata": {},
   "outputs": [],
   "source": [
    "# datapath = Path('data_npy/gtzan')\n",
    "\n",
    "data = np.load(datapath / 'data_train.npy')\n",
    "labels = np.load(datapath / 'labels_train.npy')\n",
    "sr = np.load(datapath / 'sr_train.npy')\n",
    "\n",
    "data.shape, labels.shape, sr.shape"
   ]
  },
  {
   "cell_type": "code",
   "execution_count": null,
   "id": "a987a734",
   "metadata": {},
   "outputs": [],
   "source": [
    "data = librosa.resample(data, orig_sr=sr[0], target_sr=44100, axis=1)\n",
    "data.shape"
   ]
  },
  {
   "cell_type": "code",
   "execution_count": null,
   "id": "5ebf5669-4dde-425e-8556-df3e8531a22c",
   "metadata": {},
   "outputs": [],
   "source": [
    "data_tensor = torch.from_numpy(data[:, :, np.newaxis])\n",
    "data_tensor.shape"
   ]
  },
  {
   "cell_type": "code",
   "execution_count": null,
   "id": "bd3d8011-5807-4b62-826d-768be764cb13",
   "metadata": {},
   "outputs": [],
   "source": [
    "model = JukeboxVQVAE.from_pretrained(\"ArthurZ/jukebox-vqvae\")"
   ]
  },
  {
   "cell_type": "code",
   "execution_count": null,
   "id": "63b10949-3c5a-416e-8bcb-b92df7c59804",
   "metadata": {},
   "outputs": [],
   "source": [
    "embedded = [\n",
    "    [e.numpy().ravel() for e in model.encode(d.unsqueeze(0))]\n",
    "    for d in tqdm.tqdm(data_tensor)\n",
    "]"
   ]
  },
  {
   "cell_type": "code",
   "execution_count": null,
   "id": "f0ff6844-464e-447e-a92d-45124b664989",
   "metadata": {},
   "outputs": [],
   "source": [
    "embedding_large = np.array([e[0] for e in embedded])\n",
    "embedding_med = np.array([e[1] for e in embedded])\n",
    "embedding_small = np.array([e[2] for e in embedded])\n",
    "\n",
    "embedding_large.shape, embedding_med.shape, embedding_small.shape"
   ]
  },
  {
   "cell_type": "code",
   "execution_count": null,
   "id": "ede645cc-4dd3-4148-a242-45bf9ace0daf",
   "metadata": {},
   "outputs": [],
   "source": [
    "np.save(datapath / 'jukebox_embedding_large.npy', embedding_large)\n",
    "np.save(datapath / 'jukebox_embedding_med.npy', embedding_med)\n",
    "np.save(datapath / 'jukebox_embedding_small.npy', embedding_small)"
   ]
  },
  {
   "cell_type": "code",
   "execution_count": null,
   "id": "0226c5ee-c451-4dfe-b303-4aa68ba1ba0b",
   "metadata": {},
   "outputs": [],
   "source": []
  }
 ],
 "metadata": {
  "kernelspec": {
   "display_name": "Python 3 (ipykernel)",
   "language": "python",
   "name": "python3"
  },
  "language_info": {
   "codemirror_mode": {
    "name": "ipython",
    "version": 3
   },
   "file_extension": ".py",
   "mimetype": "text/x-python",
   "name": "python",
   "nbconvert_exporter": "python",
   "pygments_lexer": "ipython3",
   "version": "3.8.13"
  }
 },
 "nbformat": 4,
 "nbformat_minor": 5
}
